{
  "cells": [
    {
      "cell_type": "markdown",
      "metadata": {
        "id": "view-in-github",
        "colab_type": "text"
      },
      "source": [
        "<a href=\"https://colab.research.google.com/github/Yongqi099/CS-3630/blob/main/CS3630Proj0.ipynb\" target=\"_parent\"><img src=\"https://colab.research.google.com/assets/colab-badge.svg\" alt=\"Open In Colab\"/></a>"
      ]
    },
    {
      "cell_type": "markdown",
      "metadata": {
        "id": "cS2EmPlvvx8K"
      },
      "source": [
        "# An Introductory Tour of Python for CS 3630"
      ]
    },
    {
      "cell_type": "markdown",
      "metadata": {
        "id": "Qfox7s4_vx8N"
      },
      "source": [
        "## Google Colab & ipynb Introduction\n",
        "\n",
        "### What is an ipynb file?\n",
        "An ipynb file is a notebook document created by Jupyter Notebook, an interactive computational environment that was created to help data science & ML professionals use Python to interact with their data. A .py file is a regular, plain text python file (that just contains code), whereas a .ipynb file is a python notebook that contains your code, results, and any other text or information.\n",
        "### What is Google Colab?\n",
        "Google Colab is a tool that allows you to write and run python code in your browser itself, with no configuration required! It even allows you to save your precious Colab Files (which are .ipynb files) in Google Drive. The neat thing about Colab is that along with your executable\n",
        "python code and text, you can put in images, LaTeX, or HTML, making it incredibly useful for both teaching and learning (especially Robotics & Perception!).\n",
        "### How do we run an ipynb file in Google Colab?\n",
        "In a .ipynb file, you can have both code and text. Each snippet of code or text is separated into cells, and each cell typically serves a specific purpose. For example, one cell can be for imports (numpy, pandas, etc), the next cell can be for defining any variables, and the following cell can be for computations. In between each of those you can even have cells of text that explain what you are doing, like commenting. Each individual cell can be run using the play button on the left of the cell, or using “Command/Ctrl+Enter”. To run all of the cells, you can click the Runtime button on the Toolbar and click “Run All.”\n",
        "### What are the instructions for submitting a file?\n",
        "In order to use a file as your own, once we give you the colab notebook link:\n",
        "1. Click the “File” button on the toolbar at the top\n",
        "2. Click “Save a Copy”\n",
        "3. Work on the project within the copy (it will say “Copy of…”)\n",
        "In order to submit a file, once you complete the project:\n",
        "1. Click the “File” button on the toolbar at the top\n",
        "2. Click “Download,”\n",
        "3. And then click “Download .py”\n",
        "4. You will now have the .py file on your local machine. Submit the .py file to gradescope\n",
        "\n",
        "### More resources!\n",
        "Pretty much all the basics related to Colab can be found at colab.research.google.com. It includes a video tutorial, some cells to play around with, and some more information on Colab."
      ]
    },
    {
      "cell_type": "markdown",
      "metadata": {
        "id": "gqi7WyoSeqDB"
      },
      "source": [
        "## Basic Python\n",
        "\n",
        "Welcome to CS 3630. We hope you're as excited for this class as we are excited to teach it.\n",
        "\n",
        "In this assignment, we introduce some basic tools and techniques which will hopefully be useful to you as you tackle all the labs this semester, as well as ensure that you're development environment is set up correctly.\n",
        "\n",
        "Some of you may already be familiar with all the topics in this assignment, so think of this assignment as more of a \"working out the initial gremlins\"."
      ]
    },
    {
      "cell_type": "code",
      "execution_count": null,
      "metadata": {
        "id": "P-2bD7Advx8O",
        "colab": {
          "base_uri": "https://localhost:8080/"
        },
        "outputId": "42e7c034-b43f-4f99-faf4-8d8b1faadc4b"
      },
      "outputs": [
        {
          "output_type": "stream",
          "name": "stdout",
          "text": [
            "Looking in indexes: https://pypi.org/simple, https://us-python.pkg.dev/colab-wheels/public/simple/\n",
            "Collecting gtsam\n",
            "  Downloading gtsam-4.1.1-cp37-cp37m-manylinux2014_x86_64.whl (20.2 MB)\n",
            "\u001b[K     |████████████████████████████████| 20.2 MB 1.2 MB/s \n",
            "\u001b[?25hRequirement already satisfied: pyparsing>=2.4.2 in /usr/local/lib/python3.7/dist-packages (from gtsam) (3.0.9)\n",
            "Requirement already satisfied: numpy>=1.11.0 in /usr/local/lib/python3.7/dist-packages (from gtsam) (1.21.6)\n",
            "Installing collected packages: gtsam\n",
            "Successfully installed gtsam-4.1.1\n"
          ]
        }
      ],
      "source": [
        "!pip install gtsam\n",
        "import numpy as np\n",
        "import gtsam"
      ]
    },
    {
      "cell_type": "markdown",
      "metadata": {
        "id": "4b_hDP1Fvx8P"
      },
      "source": [
        "### Printing\n",
        "\n",
        "The most fundamental aspect of any programming language is being able to print out values, which is incredibly easy in Python.\n",
        "\n",
        "Being able to print with nice formatting is particularly helpful in debugging."
      ]
    },
    {
      "cell_type": "code",
      "execution_count": null,
      "metadata": {
        "id": "HdBBJ2L_vx8Q",
        "colab": {
          "base_uri": "https://localhost:8080/"
        },
        "outputId": "9b7aa1e7-a0c6-4f30-ba3f-a585f9e55a2e"
      },
      "outputs": [
        {
          "output_type": "stream",
          "name": "stdout",
          "text": [
            "Welcome to CS 3630\n",
            "This is for Fall 2022\n"
          ]
        }
      ],
      "source": [
        "print(\"Welcome to CS 3630\")\n",
        "\n",
        "term = \"Fall\"\n",
        "year = 2022\n",
        "print(\"This is for {0} {1}\".format(term, year))"
      ]
    },
    {
      "cell_type": "markdown",
      "metadata": {
        "id": "F19yMLkpvx8Q"
      },
      "source": [
        "One powerful way to print lots of variables conveniently is to use `f-strings`. `f-strings` stand for format-strings which leverage special syntax for formatting. You specify an `f-string` by prepending the string with an `f` and printing variables in it by specifying the variable name with curly braces, e.g. `{var}`."
      ]
    },
    {
      "cell_type": "code",
      "execution_count": null,
      "metadata": {
        "id": "EkQvvoNcvx8R",
        "colab": {
          "base_uri": "https://localhost:8080/"
        },
        "outputId": "5ea4427f-7abf-42f7-d938-13b1423590c6"
      },
      "outputs": [
        {
          "output_type": "stream",
          "name": "stdout",
          "text": [
            "This is a f-string to display your name: \n"
          ]
        }
      ],
      "source": [
        "name = \"\" #TODO Add your name here.\n",
        "fstring =f\"This is a f-string to display your name: {name}\"\n",
        "print(fstring)"
      ]
    },
    {
      "cell_type": "markdown",
      "metadata": {
        "id": "DTuV4vmYvx8S"
      },
      "source": [
        "### Looping\n",
        "\n",
        "A lot of operations involve for-loops, which in python is very idiomatic.\n",
        "It is very similar to the syntax in Java, however Python requires ':' instead of '{' after the if-else condition. An indentation denotes the scope of the statement, and nothing is required after the indented block of code. "
      ]
    },
    {
      "cell_type": "code",
      "execution_count": null,
      "metadata": {
        "id": "sNt83jgVvx8S",
        "colab": {
          "base_uri": "https://localhost:8080/"
        },
        "outputId": "7ee8de91-eb32-49cf-c802-c4e56156d4b1"
      },
      "outputs": [
        {
          "output_type": "stream",
          "name": "stdout",
          "text": [
            "16\n"
          ]
        }
      ],
      "source": [
        "x = [1, 3, 5, 7]\n",
        "\n",
        "vanilla_sum = 0\n",
        "for i in range(len(x)):\n",
        "    vanilla_sum += x[i]\n",
        "\n",
        "print(vanilla_sum)"
      ]
    },
    {
      "cell_type": "markdown",
      "metadata": {
        "id": "EBqAOJegvx8S"
      },
      "source": [
        "However, you may want to use the `enumerate` built-in method for most of your loops as it lets you iterate through elements while also providing an index into them.\n",
        "\n",
        "Why don't you try adding the line of code to do that? It should be very similar to the above loop statement."
      ]
    },
    {
      "cell_type": "code",
      "execution_count": null,
      "metadata": {
        "id": "nRGzwTtivx8T",
        "colab": {
          "base_uri": "https://localhost:8080/"
        },
        "outputId": "90b88fc9-1c6c-4dce-a83e-3866338f6d4c"
      },
      "outputs": [
        {
          "output_type": "stream",
          "name": "stdout",
          "text": [
            "16\n"
          ]
        }
      ],
      "source": [
        "sum = 0\n",
        "for index, value in enumerate(x):\n",
        "    sum += value #TODO Add code to sum the values in x here\n",
        "assert sum == vanilla_sum\n",
        "print(sum)"
      ]
    },
    {
      "cell_type": "markdown",
      "metadata": {
        "id": "Zqwv-ybivx8T"
      },
      "source": [
        "Things like `if-else` statememts, classes, and functions are pretty much the same as any other programming language you've used in the past, so we won't spend too much time on those.\n",
        "To learn more about these topics, visit: [Python tutorial](https://www.tutorialspoint.com/python/index.htm). The topics are divided into sections on the left of the site. "
      ]
    },
    {
      "cell_type": "markdown",
      "metadata": {
        "id": "5UpkHkC-vx8T"
      },
      "source": [
        "### Comprehensions & Lambdas\n",
        "\n",
        "List comprehensions are a powerful tool to make your code more succinct and easier to read.\n",
        "\n",
        "Say you want to filter out all the even numbers from a list into a new list, this is easily done with a list comprehension."
      ]
    },
    {
      "cell_type": "code",
      "execution_count": null,
      "metadata": {
        "id": "ZvQylZcAvx8T"
      },
      "outputs": [],
      "source": [
        "x = list(range(20))\n",
        "\n",
        "evens = [c for c in x if c % 2 == 0]\n",
        "print(evens) "
      ]
    },
    {
      "cell_type": "markdown",
      "metadata": {
        "id": "4woMF_mBvx8U"
      },
      "source": [
        "Let's see if you can generate the first 8 Mersenne numbers using a list comprehension. A Mersenne number is a number that is of the form $M_n = 2^n - 1$.\n",
        "\n",
        "**NOTE** 0 is not a Mersenne number (since its binary representation is not all 1s), so be sure to adjust your loop range accordingly."
      ]
    },
    {
      "cell_type": "code",
      "execution_count": null,
      "metadata": {
        "id": "NRnOUxmavx8U"
      },
      "outputs": [],
      "source": [
        "#TODO Add a list comprehension here to generate the first 8 Mersenne numbers.\n",
        "\n",
        "mersennes = None\n",
        "assert mersennes == [1, 3, 7, 15, 31, 63, 127, 255], f\"Your code produced {mersennes}\""
      ]
    },
    {
      "cell_type": "markdown",
      "metadata": {
        "id": "052Qu33Rvx8U"
      },
      "source": [
        "## Numpy"
      ]
    },
    {
      "cell_type": "markdown",
      "metadata": {
        "id": "qX0cKJtfvx8V"
      },
      "source": [
        "### Vectors & Matrices\n",
        "\n",
        "The most fundamental data structure in python is an `ndarray` which is short for n-dimensional array (also called a `tensor`). You can easily make any list/tuple into an `ndarray` using the following two methods: `np.array` & `np.asarray`. The main difference between the two is that 'np.array' makes a copy of the input by default whereas `np.asarray` does not. Changes to the result of `np.array` will therefore only be applied to this copy and not the original array object."
      ]
    },
    {
      "cell_type": "code",
      "execution_count": null,
      "metadata": {
        "id": "H8t6Xgv9vx8V"
      },
      "outputs": [],
      "source": [
        "x = list(range(10))\n",
        "\n",
        "y = np.array(x)\n",
        "z = np.asarray(x)\n",
        "\n",
        "print(y)\n",
        "print(z)\n",
        "# We can assert that they are truly equal.\n",
        "assert np.all(y == z)"
      ]
    },
    {
      "cell_type": "markdown",
      "metadata": {
        "id": "XPDWQ5i1vx8V"
      },
      "source": [
        "Most of the time, you'll want to create a matrix or vector that is all zeros or ones. The methods for these are `np.zeros` & `np.ones`, both of which accept the expected shape."
      ]
    },
    {
      "cell_type": "code",
      "execution_count": null,
      "metadata": {
        "id": "-l_vJumtvx8W"
      },
      "outputs": [],
      "source": [
        "zero_vector = np.zeros(10)\n",
        "print(zero_vector)\n",
        "assert zero_vector.shape == (10,)\n",
        "\n",
        "ones_matrix = np.ones((2, 5))\n",
        "print(ones_matrix)\n",
        "assert ones_matrix.shape == (2, 5)\n",
        "\n",
        "#TODO Create a zeros matrix of size 3x15\n",
        "zero_points = np.matrix(None)\n",
        "assert zero_points.shape == (3, 15) and np.all(zero_points == 0), f\"Incorrect shape {zero_points.shape} or has non-zero elements\"\n",
        "\n",
        "#TODO  Create a ones matrix of size 10x6\n",
        "one_stack = np.matrix(None)\n",
        "assert one_stack.shape == (10, 6) and np.all(one_stack == 1), f\"Incorrect shape {one_stack.shape} or has non-one elements\""
      ]
    },
    {
      "cell_type": "markdown",
      "metadata": {
        "id": "GASe56x5vx8W"
      },
      "source": [
        "You may need some structured vectors or matrices, such as a sequence vector or the identity matrix. Those are simple as well."
      ]
    },
    {
      "cell_type": "code",
      "execution_count": null,
      "metadata": {
        "id": "tkRNX_Eovx8W"
      },
      "outputs": [],
      "source": [
        "seq = np.arange(1, 10)  # Vector from 1-9\n",
        "\n",
        "I_3x3 = np.eye(3)  # A 3x3 identity matrix\n",
        "#TODO Create a 4x4 identity matrix\n",
        "I_4x4 = np.matrix(None)\n",
        "assert I_4x4.shape == (4, 4) and np.all(np.diag(I_4x4) == 1) and np.all(I_4x4[~np.eye(4, dtype=bool)] == 0), f\"I_4x4 is not a valid identity matrix.\""
      ]
    },
    {
      "cell_type": "markdown",
      "metadata": {
        "id": "mmPHCBtrvx8W"
      },
      "source": [
        "### Indexing\n",
        "\n",
        "Indexing in `numpy` is slightly different from indexing in traditional python. In `numpy`, you specify all index ranges within a single pair of box brackets. The range semantics (e.g. `[0:10]`) are still the same though."
      ]
    },
    {
      "cell_type": "code",
      "execution_count": null,
      "metadata": {
        "id": "k86zzMKfvx8X"
      },
      "outputs": [],
      "source": [
        "I_6x6 = np.eye(6)\n",
        "\n",
        "# Get the bottom-right 3x3 submatrix\n",
        "I_3x3 = I_6x6[3:6, 3:6]\n",
        "\n",
        "assert np.all(I_3x3 == np.eye(3))\n",
        "\n",
        "X = np.asarray(I_6x6)\n",
        "X[5, 0] = 12\n",
        "X[0, 5] = 99\n",
        "\n",
        "#TODO Get the bottom left 3*3 submatrix of X\n",
        "bottom_left = None\n",
        "assert np.all(bottom_left == np.asarray([[0, 0, 0], [0, 0, 0], [12, 0, 0]])), f\"Incorrect submatrix indexing\""
      ]
    },
    {
      "cell_type": "markdown",
      "metadata": {
        "id": "oYue5auOvx8X"
      },
      "source": [
        "### Shapes & Broadcasting\n",
        "\n",
        "Many times, just knowing the shape of your matrix can help in figuring out what the correct operation should be. This is easily achievable with the `shape` method."
      ]
    },
    {
      "cell_type": "code",
      "execution_count": null,
      "metadata": {
        "id": "mtn0R-5pvx8X"
      },
      "outputs": [],
      "source": [
        "x = np.empty((10, 12))\n",
        "#TODO Call the shape method on x to get the correct value\n",
        "shape = None\n",
        "assert shape == (10, 12), f\"Incorrect shape received, expected (10, 12)\""
      ]
    },
    {
      "cell_type": "markdown",
      "metadata": {
        "id": "InL7jteivx8X"
      },
      "source": [
        "Once you know the current shape, sometimes you may want to add a single (or maybe multiple) dimension. This is particularly common in `numpy` where vectors are represented as shape `(N,)` and are different from shape `(N,1)` (which is a Nx1 matrix), even though they both have the same number of elements.\n",
        "\n",
        "Sometimes you want to work with the latter, so you can reshape it easily:"
      ]
    },
    {
      "cell_type": "code",
      "execution_count": null,
      "metadata": {
        "id": "CStHyWEDvx8X"
      },
      "outputs": [],
      "source": [
        "N = 10\n",
        "x = np.arange(N)\n",
        "assert x.shape == (N,)\n",
        "\n",
        "x1 = x.reshape((N, 1))\n",
        "assert x1.shape == (N, 1)\n",
        "\n",
        "#TODO reshape x to (1, N)\n",
        "x2 = np.matrix(None)\n",
        "assert x2.shape == (1, N), f\"x2 has shape {x2.shape}, expected (1, 10)\""
      ]
    },
    {
      "cell_type": "markdown",
      "metadata": {
        "id": "sqmlnienvx8Y"
      },
      "source": [
        "Other times, you just want to add a dimension for a quick operation, such as matrix-matrix multiplication. You can add new dimensions by indexing with `np.newaxis` or, more conveniently, `None`."
      ]
    },
    {
      "cell_type": "code",
      "execution_count": null,
      "metadata": {
        "id": "SeYeASvivx8Y"
      },
      "outputs": [],
      "source": [
        "x = np.arange(10)\n",
        "x1 = x[:, None]\n",
        "\n",
        "assert x1.shape == (10, 1)\n",
        "\n",
        "y = np.arange(20)\n",
        "y11 = np.matrix(None) #TODO Add two dimensions, one before and one after the main vector dimension\n",
        "assert y11.shape == (1, 20, 1), f\"Incorrect dimensions {y11.shape}, should be (1, 20, 1)\"\n"
      ]
    },
    {
      "cell_type": "markdown",
      "metadata": {
        "id": "noQ_ZzpXvx8Y"
      },
      "source": [
        "### Arithmetic Operations\n",
        "\n",
        "In general, prefer performing arithmetic on arrays using __vectorized__ code over `for` loops because numpy vectorized arithmetic is orders of magnitude faster."
      ]
    },
    {
      "cell_type": "code",
      "execution_count": null,
      "metadata": {
        "id": "YjMav0KGvx8Y"
      },
      "outputs": [],
      "source": [
        "# Don't worry about understanding this block of code; it's just to measure the execution speed.\n",
        "from time import perf_counter\n",
        "from contextlib import contextmanager\n",
        "@contextmanager\n",
        "def measure_time(msg) -> float:\n",
        "    start = perf_counter()\n",
        "    yield lambda: perf_counter() - start\n",
        "    print(f'{msg:10s} took {perf_counter() - start:.6f} seconds')"
      ]
    },
    {
      "cell_type": "code",
      "execution_count": null,
      "metadata": {
        "id": "oq9eyVsXvx8Y"
      },
      "outputs": [],
      "source": [
        "x = np.arange(1e5)\n",
        "y = np.arange(2e5, 3e5)\n",
        "\n",
        "# Bad\n",
        "with measure_time('Bad') as _:\n",
        "    z = []\n",
        "    for i in range(len(x)):\n",
        "        z.append(x[i] + y[i])\n",
        "    z = np.array(z)\n",
        "\n",
        "# Still bad\n",
        "with measure_time('Still Bad') as _:\n",
        "    z = np.zeros(x.shape)\n",
        "    for i, (xi, yi) in enumerate(zip(x, y)):\n",
        "        z[i] = xi + yi\n",
        "\n",
        "# Best\n",
        "with measure_time('Best') as _:\n",
        "    z = x + y"
      ]
    },
    {
      "cell_type": "markdown",
      "metadata": {
        "id": "LCx48W4Svx8Z"
      },
      "source": [
        "Most matrix/vector arithmetic is element-wise, with one important exception being general matrix multiplication (gemm), which is defined using the `@` operator in `numpy`.  gemm is the workhorse of linear algebra and, by consequence, robotics. **The '*' operator does not denote matrix multiplication, but is actually the operator for an element-wise multiplication.**"
      ]
    },
    {
      "cell_type": "code",
      "execution_count": null,
      "metadata": {
        "id": "yYJy1d4Pvx8Z"
      },
      "outputs": [],
      "source": [
        "x = np.asarray([10., 20, 30])\n",
        "y = np.asarray([1., 2, 3])\n",
        "I_4x4 = np.eye(3)\n",
        "print(f'x = {x}')\n",
        "print(f'y = {y}')\n",
        "print(f'x + y = {x + y}')\n",
        "print(f'x - y = {x - y}')\n",
        "print(f'x * y = {x * y}')\n",
        "print(f'x / y = {x / y}')\n",
        "print(f'I_4x4 @ x = {I_4x4 @ x}')\n",
        "print(f'np.sum(x) = {np.sum(x)}')\n",
        "print(f'np.prod(x) = {np.prod(x)}')\n",
        "\n",
        "O = np.ones((1, 3))\n",
        "sum_x = None  # TODO: Without using `sum`, use gemm to calculate the sum of the elements in x.\n",
        "assert sum_x == np.sum(x), f\"You computed sum_x = {sum_x}, but should be {np.sum(x)}\""
      ]
    },
    {
      "cell_type": "markdown",
      "metadata": {
        "id": "4ZNAtf2cvx8Z"
      },
      "source": [
        "### Broadcasting\n",
        "\n",
        "Broadcasting is one the most powerful aspects of `numpy`, but is also tricky to understand. The best way to understand it is to try to use it as much as possible and gain an intuitive feeling for it.\n",
        "\n",
        "This feature allows you to specify matrices/vectors of different sizes (albeit with some conditions) and operate on them together. A common example is element-wise matrix vector product as shown below. Be sure to checkout the [numpy broadcasting basics page](https://numpy.org/doc/stable/user/basics.broadcasting.html) for more details!"
      ]
    },
    {
      "cell_type": "code",
      "execution_count": null,
      "metadata": {
        "id": "bUcsMZ5Qvx8Z"
      },
      "outputs": [],
      "source": [
        "X = np.array([[0, 0, 0, 0],\n",
        "       [0, 1, 0, 0],\n",
        "       [0, 0, 2, 0],\n",
        "       [0, 0, 0, 3],\n",
        "       [0, 0, 0, 0],\n",
        "       [0, 1, 0, 0],\n",
        "       [0, 0, 2, 0],\n",
        "       [0, 0, 0, 3],\n",
        "       [0, 0, 0, 0],\n",
        "       [0, 1, 0, 0],\n",
        "       [0, 0, 2, 0],\n",
        "       [0, 0, 0, 3]])\n",
        "\n",
        "assert X.shape == (12, 4)\n",
        "scale = np.arange(6, 10)  # shape is (4,)\n",
        "\n",
        "# Broadcasting scale (4,) to (12, 4) for element-wise multiplication\n",
        "Y = X * scale\n",
        "\n",
        "assert np.all(Y == np.tile(np.diag([0, 7, 16, 27]), 3).T), f\"Scaled values are incorrect\""
      ]
    },
    {
      "cell_type": "markdown",
      "metadata": {
        "id": "Vg-cY-YMvx8Z"
      },
      "source": [
        "### Random Sampling\n",
        "\n",
        "To finish up, we will look at examples of sampling from probability distributions commonly employed when you wish to generate random numbers."
      ]
    },
    {
      "cell_type": "markdown",
      "metadata": {
        "id": "H17_ZoJNvx8a"
      },
      "source": [
        "#### Generate a matrix of random values\n",
        "\n",
        "Sometimes you just need some random values sampled uniformly from `[0, 1]`. This is easy to do with `np.random.default_rng` which follows the same semantics as `np.ones` and creates a random number generator. Using this generator, 'random' can be used to generate random values sampled uniformly from `[0, 1]`."
      ]
    },
    {
      "cell_type": "code",
      "execution_count": null,
      "metadata": {
        "id": "HE8kD9kNvx8a"
      },
      "outputs": [],
      "source": [
        "rng = np.random.default_rng()\n",
        "R = rng.random((3, 3))\n",
        "print(R)"
      ]
    },
    {
      "cell_type": "markdown",
      "metadata": {
        "id": "es2aJ4vnvx8b"
      },
      "source": [
        "#### Samples from the Normal Distribution\n",
        "\n",
        "The Gaussian/Normal distribution is the most common probability distribution used in robotics due to it having some very nice properties, one of which is ease of sampling.\n",
        "\n",
        "We can sample from both a standard Gaussian, as well as a custom Gaussian using the same random number generator."
      ]
    },
    {
      "cell_type": "code",
      "execution_count": null,
      "metadata": {
        "id": "Y__SwpQuvx8b"
      },
      "outputs": [],
      "source": [
        "std_samples = rng.standard_normal((3, 3))\n",
        "print(std_samples)\n",
        "\n",
        "# The first argument is the mean, the second is the standard deviation\n",
        "# We specify the standard deviation to be 1.0 which is pretty tight around the mean.\n",
        "# This means that the samples won't be too far away from the mean value aka 5\n",
        "custom_gaussian = rng.normal(5, 1.0, (3, 3))\n",
        "print(custom_gaussian)"
      ]
    },
    {
      "cell_type": "markdown",
      "metadata": {
        "id": "UBb20RnAvx8b"
      },
      "source": [
        "#### Sampling choices\n",
        "\n",
        "Finally, one common scenario is having to choose from a set of options, e.g. should you move or not move, should you pick object A, B or C, etc.\n",
        "This is where the `choice` method is useful since it allows you to sample discrete values easily."
      ]
    },
    {
      "cell_type": "code",
      "execution_count": null,
      "metadata": {
        "id": "AlZI4wdrvx8b"
      },
      "outputs": [],
      "source": [
        "# Give us 6 random choices from 0-9 without replacement\n",
        "choices = rng.choice(10, size=6, replace=False)\n",
        "print(\"Choices without replacement:\", choices)\n",
        "\n",
        "# Give us 7 random choices from 20-29 with replacement\n",
        "choices = rng.choice(np.arange(20, 30), size=7, replace=True)\n",
        "#NOTE you may or may not see duplicates, because it is (pseudo-)random!\n",
        "print(\"Choices with replacement:\", choices)\n",
        "\n",
        "# Sample random actions for the robot\n",
        "actions = ['move forward', 'move right', 'move left', 'move backward']\n",
        "samples = rng.choice(actions, size=3, replace=True)\n",
        "print(samples)"
      ]
    },
    {
      "cell_type": "markdown",
      "metadata": {
        "id": "zKdJCMHfvx8b"
      },
      "source": [
        "### Conclusion\n",
        "\n",
        "Hopefully you find this quick tour of `python` and `numpy` informative and useful. A lot of the tips and tricks here should serve you well during the course and beyond it, making you both a very competent Python programmer as well as a roboticist.\n",
        "\n",
        "Looking forward to having you in the class!"
      ]
    }
  ],
  "metadata": {
    "colab": {
      "name": "CS3630Proj0.ipynb",
      "provenance": [],
      "include_colab_link": true
    },
    "kernelspec": {
      "display_name": "Python 3.10.1 64-bit",
      "language": "python",
      "name": "python3"
    },
    "language_info": {
      "codemirror_mode": {
        "name": "ipython",
        "version": 3
      },
      "file_extension": ".py",
      "mimetype": "text/x-python",
      "name": "python",
      "nbconvert_exporter": "python",
      "pygments_lexer": "ipython3",
      "version": "3.10.1"
    },
    "orig_nbformat": 4,
    "vscode": {
      "interpreter": {
        "hash": "354d381cc62d3f51766e4a6a416f8a401bcf9fa8ac846d3b2dd3a1e0bc1bfd25"
      }
    }
  },
  "nbformat": 4,
  "nbformat_minor": 0
}